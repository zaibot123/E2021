{
 "cells": [
  {
   "cell_type": "markdown",
   "id": "decd6ecf",
   "metadata": {},
   "source": [
    "# Exercise 2 (slides) solutions"
   ]
  },
  {
   "cell_type": "code",
   "execution_count": 4,
   "id": "d4ab7252",
   "metadata": {},
   "outputs": [
    {
     "name": "stdout",
     "output_type": "stream",
     "text": [
      "5\n",
      "7\n",
      "9\n",
      "11\n",
      "13\n",
      "15\n",
      "17\n",
      "19\n",
      "21\n",
      "23\n",
      "25\n",
      "27\n"
     ]
    },
    {
     "data": {
      "text/plain": [
       "[5, 7, 9, 11, 13, 15, 17, 19, 21, 23, 25, 27]"
      ]
     },
     "execution_count": 4,
     "metadata": {},
     "output_type": "execute_result"
    }
   ],
   "source": [
    "for i in range(5, 28, 2):\n",
    "    print(i)\n",
    "    \n",
    "list(range(5,28,2))"
   ]
  },
  {
   "cell_type": "code",
   "execution_count": 8,
   "id": "0651490d",
   "metadata": {},
   "outputs": [
    {
     "name": "stdout",
     "output_type": "stream",
     "text": [
      "1\n",
      "2\n",
      "3\n",
      "4\n",
      "5\n",
      "6\n",
      "7\n",
      "8\n",
      "9\n",
      "10\n"
     ]
    }
   ],
   "source": [
    "i = 0\n",
    "while i < 10:\n",
    "    i += 1\n",
    "    print(i)"
   ]
  },
  {
   "cell_type": "code",
   "execution_count": 14,
   "id": "1fe3c467",
   "metadata": {},
   "outputs": [
    {
     "name": "stdout",
     "output_type": "stream",
     "text": [
      "a\n",
      " \n",
      "w\n",
      "o\n",
      "r\n",
      "d\n",
      "a\n",
      " \n",
      "w\n",
      "o\n",
      "r\n",
      "d\n",
      "a\n",
      " \n",
      "w\n",
      "o\n",
      "r\n",
      "d\n"
     ]
    }
   ],
   "source": [
    "s ='a word'\n",
    "i = 0\n",
    "while i < len(s):\n",
    "    print(f'{s[i]}')\n",
    "    i+=1\n",
    "    \n",
    "for i in s:\n",
    "    print(i)\n",
    "    \n",
    "for i in range(len(s)):\n",
    "    print(s[i])"
   ]
  },
  {
   "cell_type": "code",
   "execution_count": 17,
   "id": "0d93ea0e",
   "metadata": {},
   "outputs": [
    {
     "name": "stdout",
     "output_type": "stream",
     "text": [
      "5\n",
      "8\n",
      "13\n"
     ]
    }
   ],
   "source": [
    "def get_sum(a,b):\n",
    "    return a + b\n",
    "a = int(input())\n",
    "b = int(input())\n",
    "sum = get_sum(a,b)\n",
    "print(sum)"
   ]
  },
  {
   "cell_type": "code",
   "execution_count": 20,
   "id": "3e690f46",
   "metadata": {},
   "outputs": [
    {
     "data": {
      "text/plain": [
       "True"
      ]
     },
     "execution_count": 20,
     "metadata": {},
     "output_type": "execute_result"
    }
   ],
   "source": [
    "def test_word(word):\n",
    "    if word == 'test word':\n",
    "        return True\n",
    "    else:\n",
    "        return False\n",
    "    \n",
    "print(test_word('test word'))"
   ]
  },
  {
   "cell_type": "code",
   "execution_count": 21,
   "id": "4dc9ee52",
   "metadata": {},
   "outputs": [
    {
     "data": {
      "text/plain": [
       "True"
      ]
     },
     "execution_count": 21,
     "metadata": {},
     "output_type": "execute_result"
    }
   ],
   "source": [
    "def test_word(word):\n",
    "    return word == 'test word'\n",
    "    \n",
    "print(test_word('test word'))"
   ]
  },
  {
   "cell_type": "code",
   "execution_count": 22,
   "id": "cdbedf5b",
   "metadata": {},
   "outputs": [
    {
     "name": "stdout",
     "output_type": "stream",
     "text": [
      "14\n"
     ]
    }
   ],
   "source": [
    "def string_length(word):\n",
    "    length = len(word)\n",
    "    print(length)\n",
    "print(string_length('test test test'))"
   ]
  },
  {
   "cell_type": "code",
   "execution_count": 23,
   "id": "20e3e8c3",
   "metadata": {},
   "outputs": [
    {
     "name": "stdout",
     "output_type": "stream",
     "text": [
      "14\n"
     ]
    }
   ],
   "source": [
    "def string_length(word):\n",
    "    num = 0\n",
    "    for i in range(len(word)):\n",
    "        num+=1\n",
    "    print(num)\n",
    "print(string_length('test test test'))"
   ]
  },
  {
   "cell_type": "code",
   "execution_count": null,
   "id": "38538e78",
   "metadata": {},
   "outputs": [],
   "source": []
  }
 ],
 "metadata": {
  "kernelspec": {
   "display_name": "Python 3 (ipykernel)",
   "language": "python",
   "name": "python3"
  },
  "language_info": {
   "codemirror_mode": {
    "name": "ipython",
    "version": 3
   },
   "file_extension": ".py",
   "mimetype": "text/x-python",
   "name": "python",
   "nbconvert_exporter": "python",
   "pygments_lexer": "ipython3",
   "version": "3.9.6"
  }
 },
 "nbformat": 4,
 "nbformat_minor": 5
}
